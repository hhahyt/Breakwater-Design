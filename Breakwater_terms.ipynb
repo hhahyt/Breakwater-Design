{
  "nbformat": 4,
  "nbformat_minor": 0,
  "metadata": {
    "colab": {
      "name": "Breakwater terms.ipynb",
      "version": "0.3.2",
      "provenance": [],
      "collapsed_sections": [],
      "include_colab_link": true
    },
    "kernelspec": {
      "name": "python3",
      "display_name": "Python 3"
    }
  },
  "cells": [
    {
      "cell_type": "markdown",
      "metadata": {
        "id": "view-in-github",
        "colab_type": "text"
      },
      "source": [
        "<a href=\"https://colab.research.google.com/github/hhahyt/Breakwater-Design/blob/master/Breakwater_terms.ipynb\" target=\"_parent\"><img src=\"https://colab.research.google.com/assets/colab-badge.svg\" alt=\"Open In Colab\"/></a>"
      ]
    },
    {
      "metadata": {
        "id": "ZahcTN-_uQ2D",
        "colab_type": "text"
      },
      "cell_type": "markdown",
      "source": [
        "**REFERENCE**\n",
        "\n",
        "\n",
        "1.   **[Wave Parameters](http://www.geo.cornell.edu/ocean/p_ocean/ppt_notes/19_Waves.pdf)**\n",
        "2.    \n",
        "\n",
        "\n",
        "\n",
        "---\n",
        "\n",
        "1.   Wave steepness: độ dốc sóng\n",
        "2.  $T_{m-1,0} (m)$ :   spectral mean energy wave period\n",
        "1.  $T_m (m)$:  mean wave period\n",
        "2.   $H_{s,toe} (m)$ : Wave Height at the Toe of the Structure \n",
        "1.  $H_{s0} (m)$: Deep Water Significant Wave Height \n",
        "2.   $H_{2%} (m)$:  Wave Height Exceeded by 2% of the Waves at the Toe \n",
        "1.  $\\frac{H_{s0}}{L_0}$ : Deep Water Significant Wave Steepness \n",
        "2.  $S_{op}$: Deep Water Peak Wave Steepness  \n",
        "2.  $T_s (sec)$ Significant Wave Period \n",
        "1.  $\\xi_{cri}$: Critical surf similarity parameter \n",
        "1.   $\\xi_m$: Surf Similarity Parameter, Van der Meer Approach  \n",
        "2. $\\xi_{c,vdm}$:  Critical Surf Similarity Parameter, Van der Meer Approach  \n",
        "1.   $\\xi_{m-1,0} $: Surf Similarity Parameter, Van Gent et al. Approach  \n",
        "2.   $\\xi_{c,vg}$ Critical Surf Similarity Parameter, Van Gent et al. Approach  \n",
        "\n",
        "\n",
        "\n",
        "\n",
        "\n",
        "\n",
        "\n",
        "\n",
        "\n",
        "\n",
        "\n",
        "\n",
        "\n",
        "\n",
        "\n",
        "\n"
      ]
    },
    {
      "metadata": {
        "id": "KM_qfiYEyV3s",
        "colab_type": "code",
        "colab": {
          "base_uri": "https://localhost:8080/",
          "height": 470
        },
        "cellView": "form",
        "outputId": "56726867-780a-4f83-e584-319a5f5524d9"
      },
      "cell_type": "code",
      "source": [
        "#@title\n",
        "from IPython.display import Image\n",
        "from IPython.core.display import HTML \n",
        "Image(url= \"https://github.com/hhahyt/Breakwater-Design/blob/master/Wave%20parameters.JPG?raw=true\",\n",
        "     width=600)"
      ],
      "execution_count": 1,
      "outputs": [
        {
          "output_type": "execute_result",
          "data": {
            "text/html": [
              "<img src=\"https://github.com/hhahyt/Breakwater-Design/blob/master/Wave%20parameters.JPG?raw=true\" width=\"600\"/>"
            ],
            "text/plain": [
              "<IPython.core.display.Image object>"
            ]
          },
          "metadata": {
            "tags": []
          },
          "execution_count": 1
        }
      ]
    }
  ]
}