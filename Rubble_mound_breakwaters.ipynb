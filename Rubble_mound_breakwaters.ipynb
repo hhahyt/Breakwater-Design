{
  "nbformat": 4,
  "nbformat_minor": 0,
  "metadata": {
    "colab": {
      "name": "Rubble mound breakwaters.ipynb",
      "version": "0.3.2",
      "provenance": [],
      "collapsed_sections": [],
      "include_colab_link": true
    },
    "kernelspec": {
      "name": "python3",
      "display_name": "Python 3"
    }
  },
  "cells": [
    {
      "cell_type": "markdown",
      "metadata": {
        "id": "view-in-github",
        "colab_type": "text"
      },
      "source": [
        "<a href=\"https://colab.research.google.com/github/hhahyt/Breakwater-Design/blob/master/Rubble_mound_breakwaters.ipynb\" target=\"_parent\"><img src=\"https://colab.research.google.com/assets/colab-badge.svg\" alt=\"Open In Colab\"/></a>"
      ]
    },
    {
      "metadata": {
        "id": "3X0Ebu33g5N8",
        "colab_type": "text"
      },
      "cell_type": "markdown",
      "source": [
        "[A comparative study on the stability formulas of rubble mound breakwaters](https://icce-ojs-tamu.tdl.org/icce/index.php/icce/article/viewFile/7267/pdf_701)\n",
        "\n",
        "[Appendix c_determination of size of armour](https://www.cedd.gov.hk/eng/publications/ceo/doc/p4_c.pdf)\n",
        "\n",
        "[Design aspects of breakwaters and sea defences](http://www.vandermeerconsulting.nl/downloads/stability_a/2011_scacr_van_der_meer.pdf)\n",
        "\n",
        "There may be 70% difference in armour stone weight when Van der Meer (1988) and\n",
        "Van Gent et al. (2004) formulas are applied as recommended by “The Rock Manual: The use of rock in hydraulic engineering” (2007) with specific design constraints.\n",
        "Design of rubble mound breakwaters is a challenging issue due to the uncertainties in the design parameters. \n",
        ",  \n",
        "1.   Hudson (CERC, 1977; CERC, 1984) derived a formula using results of physical model experiments conducted using regular waves\n",
        "2.   Van der Meer (1988) and Van Gent et al. (2004) give the major design formulations referred in various design manuals. \n",
        "1.   Guler (2013) clarified that there are some discrepancies in the application of Van der Meer (1988) and Van Gent et al. (2004) design formulations that results in a relative difference of armour stone size up to 70% under the same design conditions.\n",
        "\n",
        "\n",
        "\n",
        "\n",
        "\n",
        "\n"
      ]
    },
    {
      "metadata": {
        "id": "WQULtv48hN9p",
        "colab_type": "text"
      },
      "cell_type": "markdown",
      "source": [
        "**Hudson (CERC, 1977; CERC, 1984) Formula**\n",
        "\n",
        "---\n",
        "\n",
        "\n",
        "\n",
        "Hudson formulation is one the most well-known equation that is used to find weight of armour\n",
        "layer of rubble mound breakwaters given by Equation 1.\n",
        "\n",
        "$\\begin{equation*}\n",
        "W_{50}=\\frac{\\gamma_{stone}H_{design}^3}{K_D \\Delta^3 \\cot(\\alpha)}\n",
        "\\end{equation*}$\n",
        "\n",
        "In Hudson formula, \n",
        "\n",
        "\n",
        "*   $\\gamma_{stone}$ is the specific weight of the stone, KD is the stability coefficient specifically determined for the type of armour unit and breaking condition\n",
        "*   $\\Delta$ is defined as relative buoyant density\n",
        "*  $\\alpha$ is the breakwater face slope\n",
        "*   $H_{design}$ defined as design wave height. It is determined according to wave breaking condition. If the waves are breaking, $H_{design}$  is taken as breaking wave height, if not, it is taken as the wave height at the toe of the structure. \n",
        "\n",
        "\n",
        "According to CERC (1977), design wave height at deep water is recommended to be taken as significant wave height ($H_s$), \n",
        "\n",
        "on the other hand, CERC (1984) recommends to use the deep water design wave height $(H_{1/10})$ as the wave height exceeded by 10% of the waves in a certain storm. Both formulations are used in practice"
      ]
    },
    {
      "metadata": {
        "id": "m9keIb_hj_d4",
        "colab_type": "text"
      },
      "cell_type": "markdown",
      "source": [
        "**Van der Meer (1988) Formula**\n",
        "\n",
        "---\n",
        "\n",
        "Well-developed approach that considers randomly generated waves, type of wave breaking, number of waves attack coastal structure (N, implicitly wave period) and notional permeability (P) in the design of rubble mound breakwaters. In this approach, surf similarity parameter (ξm) using mean wave period (Tm) given by Equation 2 should be first calculated and compared to a critical surf similarity parameter (ξcri) given by Equation 3. Type of wave breaking is determined as plunging or surging by this comparison. The design formulas to be used are presented in Equations 4 and 5 given by Van der Meer (1988) depending on type of breaking. \n",
        "\n",
        "$\\begin{equation*}\n",
        "\\zeta_m=tan(\\alpha)/ \\sqrt{\\frac{ (2 \\pi / g) H_{s,toe} } {T_m^2} }\n",
        "\\end{equation*}$"
      ]
    },
    {
      "metadata": {
        "id": "k9pEiE0cl8ed",
        "colab_type": "text"
      },
      "cell_type": "markdown",
      "source": [
        ""
      ]
    }
  ]
}