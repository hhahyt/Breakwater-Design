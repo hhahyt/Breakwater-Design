{
  "nbformat": 4,
  "nbformat_minor": 0,
  "metadata": {
    "colab": {
      "name": "Rubble mound breakwaters.ipynb",
      "version": "0.3.2",
      "provenance": [],
      "collapsed_sections": [],
      "include_colab_link": true
    },
    "kernelspec": {
      "name": "python3",
      "display_name": "Python 3"
    }
  },
  "cells": [
    {
      "cell_type": "markdown",
      "metadata": {
        "id": "view-in-github",
        "colab_type": "text"
      },
      "source": [
        "<a href=\"https://colab.research.google.com/github/hhahyt/Breakwater-Design/blob/master/Rubble_mound_breakwaters.ipynb\" target=\"_parent\"><img src=\"https://colab.research.google.com/assets/colab-badge.svg\" alt=\"Open In Colab\"/></a>"
      ]
    },
    {
      "metadata": {
        "id": "3X0Ebu33g5N8",
        "colab_type": "text"
      },
      "cell_type": "markdown",
      "source": [
        "**Reference**\n",
        "\n",
        "---\n",
        "\n",
        "1.   [A comparative study on the stability formulas of rubble mound breakwaters](https://icce-ojs-tamu.tdl.org/icce/index.php/icce/article/viewFile/7267/pdf_701)\n",
        "2.   [Appendix c_determination of size of armour](https://www.cedd.gov.hk/eng/publications/ceo/doc/p4_c.pdf)\n",
        "\n",
        "1.   [Design aspects of breakwaters and sea defences](http://www.vandermeerconsulting.nl/downloads/stability_a/2011_scacr_van_der_meer.pdf)\n",
        "2.   [Rock armour for rubble mound breakwaters, sea walls, and revetments - recent progress](http://eprints.hrwallingford.co.uk/1231/1/SR150.pdf)\n",
        "\n",
        "There may be 70% difference in armour stone weight when Van der Meer (1988) and\n",
        "Van Gent et al. (2004) formulas are applied as recommended by “The Rock Manual: The use of rock in hydraulic engineering” (2007) with specific design constraints.\n",
        "Design of rubble mound breakwaters is a challenging issue due to the uncertainties in the design parameters. \n",
        ",  \n",
        "1.   Hudson (CERC, 1977; CERC, 1984) derived a formula using results of physical model experiments conducted using regular waves\n",
        "2.   Van der Meer (1988) and Van Gent et al. (2004) give the major design formulations referred in various design manuals. \n",
        "1.   Guler (2013) clarified that there are some discrepancies in the application of Van der Meer (1988) and Van Gent et al. (2004) design formulations that results in a relative difference of armour stone size up to 70% under the same design conditions.\n",
        "\n",
        "\n",
        "\n",
        "\n",
        "\n",
        "\n"
      ]
    },
    {
      "metadata": {
        "id": "WQULtv48hN9p",
        "colab_type": "text"
      },
      "cell_type": "markdown",
      "source": [
        "**Hudson (CERC, 1977; CERC, 1984) Formula**\n",
        "\n",
        "---\n",
        "\n",
        "\n",
        "\n",
        "Hudson formulation is one the most well-known equation that is used to find weight of armour\n",
        "layer of rubble mound breakwaters given by Equation 1.\n",
        "\n",
        "$\\begin{equation*}\n",
        "W_{50}=\\frac{\\gamma_{stone}H_{design}^3}{K_D \\Delta^3 \\cot(\\alpha)}\n",
        "\\end{equation*}$\n",
        "\n",
        "In Hudson formula, \n",
        "\n",
        "\n",
        "*   $\\gamma_{stone}$ is the specific weight of the stone, KD is the stability coefficient specifically determined for the type of armour unit and breaking condition\n",
        "*   $\\Delta$ is defined as relative buoyant density\n",
        "*  $\\alpha$ is the breakwater face slope\n",
        "*   $H_{design}$ defined as design wave height. It is determined according to wave breaking condition. If the waves are breaking, $H_{design}$  is taken as breaking wave height, if not, it is taken as the wave height at the toe of the structure. \n",
        "\n",
        "\n",
        "According to CERC (1977), design wave height at deep water is recommended to be taken as significant wave height ($H_s$), \n",
        "\n",
        "on the other hand, CERC (1984) recommends to use the deep water design wave height $(H_{1/10})$ as the wave height exceeded by 10% of the waves in a certain storm. Both formulations are used in practice.\n",
        "\n",
        "The limitation of the Hudson equations (Refer [4])"
      ]
    },
    {
      "metadata": {
        "id": "aIzy4PPe-hiy",
        "colab_type": "code",
        "colab": {
          "base_uri": "https://localhost:8080/",
          "height": 247
        },
        "outputId": "c0d64a9d-5b53-4ba6-b310-215cbfc76a61"
      },
      "cell_type": "code",
      "source": [
        "from IPython.display import Image\n",
        "from IPython.core.display import HTML \n",
        "Image(url= \"https://github.com/hhahyt/Breakwater-Design/blob/master/Hudson%20rock%20armour_Limitation.JPG?raw=true\",\n",
        "     width=400)"
      ],
      "execution_count": 2,
      "outputs": [
        {
          "output_type": "execute_result",
          "data": {
            "text/html": [
              "<img src=\"https://github.com/hhahyt/Breakwater-Design/blob/master/Hudson%20rock%20armour_Limitation.JPG?raw=true\" width=\"400\"/>"
            ],
            "text/plain": [
              "<IPython.core.display.Image object>"
            ]
          },
          "metadata": {
            "tags": []
          },
          "execution_count": 2
        }
      ]
    },
    {
      "metadata": {
        "id": "m9keIb_hj_d4",
        "colab_type": "text"
      },
      "cell_type": "markdown",
      "source": [
        "**Van der Meer (1988) Formula**\n",
        "\n",
        "---\n",
        "\n",
        "Well-developed approach that considers randomly generated waves, type of wave breaking, number of waves attack coastal structure (N, implicitly wave period) and notional permeability (P) in the design of rubble mound breakwaters. In this approach, surf similarity parameter (ξm) using mean wave period (Tm) given by Equation 2 should be first calculated and compared to a critical surf similarity parameter (ξcri) given by Equation 3. Type of wave breaking is determined as plunging or surging by this comparison. The design formulas to be used are presented in Equations 4 and 5 given by Van der Meer (1988) depending on type of breaking. \n",
        "\n",
        "$\\begin{equation*}\n",
        "\\zeta_m=tan(\\alpha)/ \\sqrt{\\frac{ (2 \\pi / g) H_{s,toe} } {T_m^2} }\n",
        "\\end{equation*}$(2)\n",
        "\n",
        "$\\begin{equation*}\n",
        "\\left ( \\frac{C_{pl}}{C_s} P^{0.31} \\sqrt{\\tan (\\alpha) } \\right )^{\\frac{1}{P+0.5}}\n",
        "\\end{equation*}  $   (3)\n",
        "\n",
        "\n",
        "\n",
        "*   Plunging waves $(\\xi_m < \\xi_{cri})$\n",
        "\n",
        "$\\begin{equation*}\n",
        "\\frac{H_{s,toe}}{\\Delta D_{n50}}=C_{pl} P^{0.18} \\left (\\frac{S}{\\sqrt{N}} \\right)^{0.2} \\zeta_m^{-0.5}\n",
        "\\end{equation*}  $   (4)\n",
        "\n",
        "*   Surging Waves $(\\xi_m \\geq \\xi_{cri})$\n",
        "\n",
        "$\\begin{equation*}\n",
        "\\frac{H_{s,toe}}{\\Delta D_{n50}}=C_{s} P^{-0.13} \\left (\\frac{S}{\\sqrt{N}} \\right)^{0.2} \\sqrt{\\cot(\\alpha ) }  . \\zeta_m^{p}\n",
        "\\end{equation*}  $   (5)\n"
      ]
    },
    {
      "metadata": {
        "id": "zXcxgVfkGTAx",
        "colab_type": "text"
      },
      "cell_type": "markdown",
      "source": [
        "\n",
        "\n",
        "*    $H_{s,toe}$ is defined as significant wave height at the toe of the structure\n",
        "*   Cpl is plunging coefficient (Sóng leo vỡ) = 6.2\n",
        "*   S is damage level\n",
        "*  Dn50 is nominal armour stone diameter assuming a 50% cumulative distribution\n",
        "*  Cs is surging coefficient (Sóng dâng vỡ)= 1.0\n",
        "\n",
        "Plunging and surging coefficients are calibrated 6.2 as 1.0  and , respectively, using the\n",
        "results of physical model experiments conducted by Van der Meer (1988)"
      ]
    },
    {
      "metadata": {
        "id": "pudA9Db-B_kO",
        "colab_type": "code",
        "colab": {
          "base_uri": "https://localhost:8080/",
          "height": 291
        },
        "outputId": "84e4c60c-9dd2-4703-d183-33bffc33a799"
      },
      "cell_type": "code",
      "source": [
        "from IPython.display import Image\n",
        "from IPython.core.display import HTML \n",
        "Image(url= \"https://github.com/hhahyt/Breakwater-Design/blob/master/Van%20Der%20Meer%20(1988)%20equation.JPG?raw=true\",\n",
        "     width=500)\n"
      ],
      "execution_count": 4,
      "outputs": [
        {
          "output_type": "execute_result",
          "data": {
            "text/html": [
              "<img src=\"https://github.com/hhahyt/Breakwater-Design/blob/master/Van%20Der%20Meer%20(1988)%20equation.JPG?raw=true\" width=\"500\"/>"
            ],
            "text/plain": [
              "<IPython.core.display.Image object>"
            ]
          },
          "metadata": {
            "tags": []
          },
          "execution_count": 4
        }
      ]
    },
    {
      "metadata": {
        "id": "k9pEiE0cl8ed",
        "colab_type": "text"
      },
      "cell_type": "markdown",
      "source": [
        ""
      ]
    },
    {
      "metadata": {
        "id": "hs_mZD-iHeAw",
        "colab_type": "code",
        "colab": {
          "base_uri": "https://localhost:8080/",
          "height": 308
        },
        "outputId": "8161d5f7-8cf0-44ea-a535-9793e282d649"
      },
      "cell_type": "code",
      "source": [
        "from IPython.display import Image\n",
        "from IPython.core.display import HTML \n",
        "Image(url= \"https://github.com/hhahyt/Breakwater-Design/blob/master/Van%20Gent%20et%20al.%20(2004)%20formulation.JPG?raw=true\",\n",
        "     width=500)"
      ],
      "execution_count": 5,
      "outputs": [
        {
          "output_type": "execute_result",
          "data": {
            "text/html": [
              "<img src=\"https://github.com/hhahyt/Breakwater-Design/blob/master/Van%20Gent%20et%20al.%20(2004)%20formulation.JPG?raw=true\" width=\"500\"/>"
            ],
            "text/plain": [
              "<IPython.core.display.Image object>"
            ]
          },
          "metadata": {
            "tags": []
          },
          "execution_count": 5
        }
      ]
    }
  ]
}